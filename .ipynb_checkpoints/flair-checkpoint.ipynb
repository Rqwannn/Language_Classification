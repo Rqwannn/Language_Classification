{
 "cells": [
  {
   "cell_type": "markdown",
   "id": "fef9c3f0-0703-4dd8-8d5b-1f35cf33f294",
   "metadata": {},
   "source": [
    "1. Initialize the model\n",
    "2. Tokenizing\n",
    "3. Process with Model\n",
    "4. Formats the Outputs"
   ]
  },
  {
   "cell_type": "code",
   "execution_count": null,
   "id": "d45dd514-e420-49c1-865c-2b47675f2440",
   "metadata": {},
   "outputs": [],
   "source": [
    "!pip install flair"
   ]
  },
  {
   "cell_type": "code",
   "execution_count": 13,
   "id": "a9354e31-8d99-4b4d-8799-7902d5deec1b",
   "metadata": {},
   "outputs": [
    {
     "name": "stdout",
     "output_type": "stream",
     "text": [
      "2023-03-12 15:14:47,840 https://nlp.informatik.hu-berlin.de/resources/models/sentiment-curated-distilbert/sentiment-en-mix-distillbert_4.pt not found in cache, downloading to C:\\Users\\Raqwan\\AppData\\Local\\Temp\\tmp5bbreef3\n"
     ]
    },
    {
     "name": "stderr",
     "output_type": "stream",
     "text": [
      "100%|██████████| 253M/253M [13:55<00:00, 318kB/s]  "
     ]
    },
    {
     "name": "stdout",
     "output_type": "stream",
     "text": [
      "2023-03-12 15:28:44,190 copying C:\\Users\\Raqwan\\AppData\\Local\\Temp\\tmp5bbreef3 to cache at C:\\Users\\Raqwan\\.flair\\models\\sentiment-en-mix-distillbert_4.pt\n"
     ]
    },
    {
     "name": "stderr",
     "output_type": "stream",
     "text": [
      "\n"
     ]
    },
    {
     "name": "stdout",
     "output_type": "stream",
     "text": [
      "2023-03-12 15:28:44,613 removing temp file C:\\Users\\Raqwan\\AppData\\Local\\Temp\\tmp5bbreef3\n"
     ]
    },
    {
     "data": {
      "application/vnd.jupyter.widget-view+json": {
       "model_id": "7c66a5b44b6a4fc0a48dd5dc57147a6e",
       "version_major": 2,
       "version_minor": 0
      },
      "text/plain": [
       "Downloading:   0%|          | 0.00/28.0 [00:00<?, ?B/s]"
      ]
     },
     "metadata": {},
     "output_type": "display_data"
    },
    {
     "data": {
      "application/vnd.jupyter.widget-view+json": {
       "model_id": "df1ccf50dac44be58a27e3508b106bd3",
       "version_major": 2,
       "version_minor": 0
      },
      "text/plain": [
       "Downloading:   0%|          | 0.00/483 [00:00<?, ?B/s]"
      ]
     },
     "metadata": {},
     "output_type": "display_data"
    },
    {
     "data": {
      "application/vnd.jupyter.widget-view+json": {
       "model_id": "97d20bbcda8743558db90b8628289263",
       "version_major": 2,
       "version_minor": 0
      },
      "text/plain": [
       "Downloading:   0%|          | 0.00/232k [00:00<?, ?B/s]"
      ]
     },
     "metadata": {},
     "output_type": "display_data"
    },
    {
     "data": {
      "application/vnd.jupyter.widget-view+json": {
       "model_id": "ebc9f345d91d4350b64378492077de04",
       "version_major": 2,
       "version_minor": 0
      },
      "text/plain": [
       "Downloading:   0%|          | 0.00/466k [00:00<?, ?B/s]"
      ]
     },
     "metadata": {},
     "output_type": "display_data"
    }
   ],
   "source": [
    "import flair\n",
    "\n",
    "model = flair.models.TextClassifier.load(\"en-sentiment\")"
   ]
  },
  {
   "cell_type": "code",
   "execution_count": 15,
   "id": "46806f09-3484-41c0-aaaa-4733febf01d3",
   "metadata": {},
   "outputs": [
    {
     "data": {
      "text/plain": [
       "Sentence[4]: \"I Like You!\""
      ]
     },
     "execution_count": 15,
     "metadata": {},
     "output_type": "execute_result"
    }
   ],
   "source": [
    "text = \"I Like You!\"\n",
    "sentence = flair.data.Sentence(text)\n",
    "\n",
    "sentence # [3] => number of tokens, 4 with !"
   ]
  },
  {
   "cell_type": "code",
   "execution_count": 16,
   "id": "bf10ce6d-a4db-4127-b3e7-ef7aebcc78a9",
   "metadata": {},
   "outputs": [
    {
     "data": {
      "text/plain": [
       "'I Like You !'"
      ]
     },
     "execution_count": 16,
     "metadata": {},
     "output_type": "execute_result"
    }
   ],
   "source": [
    "sentence.to_tokenized_string()"
   ]
  },
  {
   "cell_type": "code",
   "execution_count": 18,
   "id": "0618bb97-8b54-4669-b9e1-7c9cdb759140",
   "metadata": {},
   "outputs": [],
   "source": [
    "model.predict(sentence)"
   ]
  },
  {
   "cell_type": "code",
   "execution_count": 19,
   "id": "3ec505f1-97c8-4ea3-ab98-87a2df34dcbb",
   "metadata": {},
   "outputs": [
    {
     "data": {
      "text/plain": [
       "Sentence[4]: \"I Like You!\" → POSITIVE (0.9928)"
      ]
     },
     "execution_count": 19,
     "metadata": {},
     "output_type": "execute_result"
    }
   ],
   "source": [
    "sentence # => have been adde to model object"
   ]
  },
  {
   "cell_type": "code",
   "execution_count": 20,
   "id": "9306139a-3db0-460a-b796-eac14a52e83d",
   "metadata": {},
   "outputs": [
    {
     "data": {
      "text/plain": [
       "Sentence[11]: \"I hate it when I/'m not learning about ML\" → NEGATIVE (0.9997)"
      ]
     },
     "execution_count": 20,
     "metadata": {},
     "output_type": "execute_result"
    }
   ],
   "source": [
    "text = \"I hate it when I/'m not learning about ML\"\n",
    "sentence = flair.data.Sentence(text)\n",
    "model.predict(sentence)\n",
    "\n",
    "sentence"
   ]
  },
  {
   "cell_type": "code",
   "execution_count": 21,
   "id": "d7b29559-e6a2-47f1-8693-9e223691cf84",
   "metadata": {},
   "outputs": [
    {
     "data": {
      "text/plain": [
       "['Sentence[11]: \"I hate it when I/'m not learning about ML\"'/'NEGATIVE' (0.9997)]"
      ]
     },
     "execution_count": 21,
     "metadata": {},
     "output_type": "execute_result"
    }
   ],
   "source": [
    "sentence.get_labels()"
   ]
  },
  {
   "cell_type": "code",
   "execution_count": 22,
   "id": "6b77710d-4041-4c91-bac7-cf2c177e025b",
   "metadata": {},
   "outputs": [
    {
     "data": {
      "text/plain": [
       "'Sentence[11]: \"I hate it when I/'m not learning about ML\"'/'NEGATIVE' (0.9997)"
      ]
     },
     "execution_count": 22,
     "metadata": {},
     "output_type": "execute_result"
    }
   ],
   "source": [
    "# can use help(sentence.get_labels()[0]) or type() to see\n",
    "\n",
    "sentence.get_labels()[0]"
   ]
  },
  {
   "cell_type": "code",
   "execution_count": 23,
   "id": "b7cf9beb-59bb-48bb-bf49-ee2e6851bb3e",
   "metadata": {},
   "outputs": [
    {
     "data": {
      "text/plain": [
       "(0.999678373336792, 'NEGATIVE')"
      ]
     },
     "execution_count": 23,
     "metadata": {},
     "output_type": "execute_result"
    }
   ],
   "source": [
    "sentence.get_labels()[0].score, sentence.get_labels()[0].value"
   ]
  },
  {
   "cell_type": "code",
   "execution_count": null,
   "id": "8061404b-9bb1-4a3f-b21a-e4009191fd2f",
   "metadata": {},
   "outputs": [],
   "source": []
  }
 ],
 "metadata": {
  "kernelspec": {
   "display_name": "Python 3 (ipykernel)",
   "language": "python",
   "name": "python3"
  },
  "language_info": {
   "codemirror_mode": {
    "name": "ipython",
    "version": 3
   },
   "file_extension": ".py",
   "mimetype": "text/x-python",
   "name": "python",
   "nbconvert_exporter": "python",
   "pygments_lexer": "ipython3",
   "version": "3.9.13"
  }
 },
 "nbformat": 4,
 "nbformat_minor": 5
}
